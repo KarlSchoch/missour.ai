{
 "cells": [
  {
   "cell_type": "code",
   "execution_count": null,
   "id": "d2184e3e-fc92-486d-8e87-c868cea4a2fe",
   "metadata": {},
   "outputs": [],
   "source": [
    "# ID rough cost for doing semantic chunking"
   ]
  },
  {
   "cell_type": "code",
   "execution_count": 48,
   "id": "e69f6c83-aebc-44e0-917e-69f3ac903ebb",
   "metadata": {},
   "outputs": [],
   "source": [
    "from langchain_experimental.text_splitter import SemanticChunker\n",
    "from langchain_openai.embeddings import OpenAIEmbeddings\n",
    "import tiktoken\n",
    "import os\n",
    "from dotenv import load_dotenv\n",
    "import pandas as pd\n",
    "\n",
    "# Load OpenAI API key from .env file\n",
    "load_dotenv(\"../../.env\")\n",
    "openai_api_key = os.getenv(\"OPENAI_API_KEY\")"
   ]
  },
  {
   "cell_type": "code",
   "execution_count": 36,
   "id": "b99131da-a7c0-4f38-a728-7520984b5210",
   "metadata": {},
   "outputs": [],
   "source": [
    "# Read in files (average size and largest)"
   ]
  },
  {
   "cell_type": "code",
   "execution_count": 37,
   "id": "645c08f9-f1dc-41ef-b4d6-ecddf91ad12d",
   "metadata": {},
   "outputs": [],
   "source": [
    "with open(\"../data/dss-non-medicaid-pt2.txt\") as f:\n",
    "    largest_transcript = f.read()\n",
    "with open(\"../data/ltgov-dhss-p1.txt\") as f:\n",
    "    average_transcript = f.read()\n",
    "transcripts = {\n",
    "    'largest_transcript': largest_transcript,\n",
    "    'average_transcript': average_transcript,\n",
    "}"
   ]
  },
  {
   "cell_type": "code",
   "execution_count": 38,
   "id": "07812b56-7f9e-4c27-bd05-38e6c3393f37",
   "metadata": {},
   "outputs": [],
   "source": [
    "# Estimate text splitting cost for documents"
   ]
  },
  {
   "cell_type": "code",
   "execution_count": 39,
   "id": "abc2f698-cda5-4393-aa2e-36598b2bf03f",
   "metadata": {},
   "outputs": [
    {
     "name": "stdout",
     "output_type": "stream",
     "text": [
      "largest_transcript (49384 tokens)\n",
      "* text-embedding-3-small estimated cost: 0.0009876800000000001\n",
      "* text-embedding-3-large estimated cost: 0.00641992\n",
      "average_transcript (17929 tokens)\n",
      "* text-embedding-3-small estimated cost: 0.00035858\n",
      "* text-embedding-3-large estimated cost: 0.00233077\n"
     ]
    }
   ],
   "source": [
    "embedding_cost = {\n",
    "    'text-embedding-3-small': .02/1000000,\n",
    "    'text-embedding-3-large': .13/1000000\n",
    "}\n",
    "for transcript in transcripts:\n",
    "    encoding = tiktoken.encoding_for_model('text-embedding-3-small')\n",
    "    num_tokens = len(encoding.encode(transcripts[transcript]))\n",
    "    print(f\"{transcript} ({num_tokens} tokens)\")\n",
    "    for model in ['text-embedding-3-small', 'text-embedding-3-large']:\n",
    "        print(f\"* {model} estimated cost: {embedding_cost[model] * num_tokens}\")"
   ]
  },
  {
   "cell_type": "code",
   "execution_count": 15,
   "id": "0c7d2a21-f136-45cc-a646-ada3a40b44c3",
   "metadata": {},
   "outputs": [],
   "source": [
    "# Instantiate Text Splitter"
   ]
  },
  {
   "cell_type": "code",
   "execution_count": 41,
   "id": "37b5d2f2-9293-4e5e-b2bb-95c2bbf65c1a",
   "metadata": {},
   "outputs": [],
   "source": [
    "text_splitter = SemanticChunker(OpenAIEmbeddings(openai_api_key=openai_api_key))"
   ]
  },
  {
   "cell_type": "code",
   "execution_count": 40,
   "id": "739d9a77-077d-4fd3-ac74-0261cb3373ce",
   "metadata": {},
   "outputs": [],
   "source": [
    "# Execute chunking on longer transcript with largest model"
   ]
  },
  {
   "cell_type": "code",
   "execution_count": 43,
   "id": "c5c51639-bae8-41c1-9a6e-e17bd59ae88d",
   "metadata": {},
   "outputs": [],
   "source": [
    "docs = text_splitter.create_documents([transcripts['largest_transcript']])\n",
    "# actual cost based on looking at the dashboard: <$0.01"
   ]
  },
  {
   "cell_type": "code",
   "execution_count": 51,
   "id": "20329f78-8dda-412c-98be-dcbfeab931e8",
   "metadata": {},
   "outputs": [],
   "source": [
    "# Translate chunks into dataframe and export csv for labeling to facilitate evals"
   ]
  },
  {
   "cell_type": "code",
   "execution_count": 54,
   "id": "f85042bc-c3b7-4b0e-b86a-7b53430ccfc3",
   "metadata": {},
   "outputs": [],
   "source": [
    "data = {'chunk': []}\n",
    "\n",
    "for doc in docs:\n",
    "    data['chunk'].append(doc.page_content)\n",
    "\n",
    "df = pd.DataFrame(data)\n",
    "df.to_csv(\"../data/dss-non-medicaid-pt2.csv\", index=False)"
   ]
  },
  {
   "cell_type": "code",
   "execution_count": null,
   "id": "e5be87f0-f79d-463b-ae19-2535ad630e24",
   "metadata": {},
   "outputs": [],
   "source": []
  }
 ],
 "metadata": {
  "kernelspec": {
   "display_name": "Python 3 (ipykernel)",
   "language": "python",
   "name": "python3"
  },
  "language_info": {
   "codemirror_mode": {
    "name": "ipython",
    "version": 3
   },
   "file_extension": ".py",
   "mimetype": "text/x-python",
   "name": "python",
   "nbconvert_exporter": "python",
   "pygments_lexer": "ipython3",
   "version": "3.11.6"
  }
 },
 "nbformat": 4,
 "nbformat_minor": 5
}
