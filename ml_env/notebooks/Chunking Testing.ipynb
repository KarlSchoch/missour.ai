{
 "cells": [
  {
   "cell_type": "code",
   "execution_count": null,
   "id": "d2184e3e-fc92-486d-8e87-c868cea4a2fe",
   "metadata": {},
   "outputs": [],
   "source": [
    "# ID rough cost for doing semantic chunking"
   ]
  },
  {
   "cell_type": "code",
   "execution_count": 17,
   "id": "e69f6c83-aebc-44e0-917e-69f3ac903ebb",
   "metadata": {},
   "outputs": [],
   "source": [
    "from langchain_experimental.text_splitter import SemanticChunker\n",
    "from langchain_openai.embeddings import OpenAIEmbeddings\n",
    "import tiktoken\n",
    "import os\n",
    "from dotenv import load_dotenv\n",
    "\n",
    "# Load OpenAI API key from .env file\n",
    "load_dotenv(\"../../.env\")\n",
    "openai_api_key = os.getenv(\"OPENAI_API_KEY\")"
   ]
  },
  {
   "cell_type": "code",
   "execution_count": null,
   "id": "b99131da-a7c0-4f38-a728-7520984b5210",
   "metadata": {},
   "outputs": [],
   "source": [
    "# Read in files (average size and largest)"
   ]
  },
  {
   "cell_type": "code",
   "execution_count": 23,
   "id": "645c08f9-f1dc-41ef-b4d6-ecddf91ad12d",
   "metadata": {},
   "outputs": [],
   "source": [
    "with open(\"../data/dss-non-medicaid-pt2.txt\") as f:\n",
    "    largest_transcript = f.read()\n",
    "with open(\"../data/ltgov-dhss-p1.txt\") as f:\n",
    "    average_transcript = f.read()\n",
    "transcripts = {\n",
    "    'largest_transcript': largest_transcript,\n",
    "    'average_transcript': average_transcript,\n",
    "}"
   ]
  },
  {
   "cell_type": "code",
   "execution_count": 15,
   "id": "0c7d2a21-f136-45cc-a646-ada3a40b44c3",
   "metadata": {},
   "outputs": [],
   "source": [
    "# Instantiate Text Splitter"
   ]
  },
  {
   "cell_type": "code",
   "execution_count": 14,
   "id": "7d18f8c6-d87a-4560-95ec-2dc55c580af5",
   "metadata": {},
   "outputs": [],
   "source": [
    "text_splitter = SemanticChunker(OpenAIEmbeddings(openai_api_key=openai_api_key))"
   ]
  },
  {
   "cell_type": "code",
   "execution_count": null,
   "id": "07812b56-7f9e-4c27-bd05-38e6c3393f37",
   "metadata": {},
   "outputs": [],
   "source": []
  },
  {
   "cell_type": "code",
   "execution_count": 29,
   "id": "abc2f698-cda5-4393-aa2e-36598b2bf03f",
   "metadata": {},
   "outputs": [
    {
     "ename": "SyntaxError",
     "evalue": "cannot assign to literal here. Maybe you meant '==' instead of '='? (2485561463.py, line 4)",
     "output_type": "error",
     "traceback": [
      "\u001b[1;36m  Cell \u001b[1;32mIn[29], line 4\u001b[1;36m\u001b[0m\n\u001b[1;33m    'text-embedding-3-small' = .02/1000000,\u001b[0m\n\u001b[1;37m    ^\u001b[0m\n\u001b[1;31mSyntaxError\u001b[0m\u001b[1;31m:\u001b[0m cannot assign to literal here. Maybe you meant '==' instead of '='?\n"
     ]
    }
   ],
   "source": [
    "## Estimate text splitting cost for documents\n",
    "# translate costs to per token\n",
    "embedding_cost = {\n",
    "    'text-embedding-3-small' = .02/1000000,\n",
    "    'text-embedding-3-large' = .13/1000000\n",
    "}\n",
    "\n",
    "for transcript in transcripts:\n",
    "    print(transcript)\n",
    "    for model in ['text-embedding-3-small', 'text-embedding-3-large']:\n",
    "        encoding = tiktoken.encoding_for_model(model)\n",
    "        num_tokens = len(encoding.encode(transcripts[transcript]))\n",
    "        print(f\"* {model}\")\n",
    "        print(f\"** num of tokens: {num_tokens}\")\n",
    "        print(f\"** estimated cost: {embedding_cost[model] * num_tokens}\""
   ]
  }
 ],
 "metadata": {
  "kernelspec": {
   "display_name": "Python 3 (ipykernel)",
   "language": "python",
   "name": "python3"
  },
  "language_info": {
   "codemirror_mode": {
    "name": "ipython",
    "version": 3
   },
   "file_extension": ".py",
   "mimetype": "text/x-python",
   "name": "python",
   "nbconvert_exporter": "python",
   "pygments_lexer": "ipython3",
   "version": "3.11.6"
  }
 },
 "nbformat": 4,
 "nbformat_minor": 5
}
