{
 "cells": [
  {
   "cell_type": "code",
   "execution_count": null,
   "id": "2f24e932-a3e7-439f-84ad-9199c0816ff8",
   "metadata": {},
   "outputs": [],
   "source": []
  }
 ],
 "metadata": {
  "kernelspec": {
   "display_name": "",
   "name": ""
  },
  "language_info": {
   "name": ""
  }
 },
 "nbformat": 4,
 "nbformat_minor": 5
}
